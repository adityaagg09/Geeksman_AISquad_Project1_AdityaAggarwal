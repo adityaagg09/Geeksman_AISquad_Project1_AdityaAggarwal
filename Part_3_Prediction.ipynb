#h
{
  "nbformat": 4,
  "nbformat_minor": 0,
  "metadata": {
    "colab": {
      "name": "Part_3_Prediction (1).ipynb",
      "provenance": [],
      "collapsed_sections": []
    },
    "kernelspec": {
      "name": "python3",
      "display_name": "Python 3"
    },
    "accelerator": "GPU"
  },
  "cells": [
    {
      "cell_type": "markdown",
      "metadata": {
        "id": "UypA-6hA6JNX",
        "colab_type": "text"
      },
      "source": [
        "<h2>This is our final notebook in this we will make predictions on our trained model</h2>"
      ]
    },
    {
      "cell_type": "markdown",
      "metadata": {
        "id": "YECcjQ0HoSeO",
        "colab_type": "text"
      },
      "source": [
        "<h4>This is the link to drive which contains our model related data</h4>"
      ]
    },
    {
      "cell_type": "markdown",
      "metadata": {
        "id": "ZxqKe1eWoKIy",
        "colab_type": "text"
      },
      "source": [
        "https://drive.google.com/drive/folders/1-4KGi5-jzY6Nqa8RmeiAq8fyDLDjzlWc?usp=sharing"
      ]
    },
    {
      "cell_type": "markdown",
      "metadata": {
        "id": "fX-AESLn7na6",
        "colab_type": "text"
      },
      "source": [
        "<h3>Step - 1<h3>"
      ]
    },
    {
      "cell_type": "markdown",
      "metadata": {
        "id": "m9r2vTmu7qtV",
        "colab_type": "text"
      },
      "source": [
        "<h3>Importing the necessary libraries </h3>"
      ]
    },
    {
      "cell_type": "code",
      "metadata": {
        "id": "QJSgYCFU7myw",
        "colab_type": "code",
        "colab": {}
      },
      "source": [
        "%reload_ext autoreload\n",
        "%autoreload 2\n",
        "%matplotlib inline\n",
        "from fastai.vision import *\n",
        "from fastai.metrics import error_rate\n",
        "import warnings\n",
        "warnings.filterwarnings(\"ignore\", category=FutureWarning)"
      ],
      "execution_count": 3,
      "outputs": []
    },
    {
      "cell_type": "markdown",
      "metadata": {
        "id": "vy5t7Tob6VbX",
        "colab_type": "text"
      },
      "source": [
        "<h3>Step -2</h3>"
      ]
    },
    {
      "cell_type": "markdown",
      "metadata": {
        "id": "g4oBqQgK6Zzj",
        "colab_type": "text"
      },
      "source": [
        "<h3>Downloading or test dataset from kaagle </h3>"
      ]
    },
    {
      "cell_type": "code",
      "metadata": {
        "id": "PYth-Qiy6oim",
        "colab_type": "code",
        "colab": {
          "resources": {
            "http://localhost:8080/nbextensions/google.colab/files.js": {
              "data": "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",
              "ok": true,
              "headers": [
                [
                  "content-type",
                  "application/javascript"
                ]
              ],
              "status": 200,
              "status_text": ""
            }
          },
          "base_uri": "https://localhost:8080/",
          "height": 73
        },
        "outputId": "f7758c75-609b-4ead-f7c7-dc3e2796f17a"
      },
      "source": [
        "from google.colab import files\n",
        "my_file=files.upload()"
      ],
      "execution_count": null,
      "outputs": [
        {
          "output_type": "display_data",
          "data": {
            "text/html": [
              "\n",
              "     <input type=\"file\" id=\"files-0a3a683e-975d-453d-9783-3539df7135d1\" name=\"files[]\" multiple disabled\n",
              "        style=\"border:none\" />\n",
              "     <output id=\"result-0a3a683e-975d-453d-9783-3539df7135d1\">\n",
              "      Upload widget is only available when the cell has been executed in the\n",
              "      current browser session. Please rerun this cell to enable.\n",
              "      </output>\n",
              "      <script src=\"/nbextensions/google.colab/files.js\"></script> "
            ],
            "text/plain": [
              "<IPython.core.display.HTML object>"
            ]
          },
          "metadata": {
            "tags": []
          }
        },
        {
          "output_type": "stream",
          "text": [
            "Saving kaggle.json to kaggle.json\n"
          ],
          "name": "stdout"
        }
      ]
    },
    {
      "cell_type": "code",
      "metadata": {
        "id": "74SHXRFU6t6T",
        "colab_type": "code",
        "colab": {}
      },
      "source": [
        "import os\n",
        "import pandas as pd\n",
        "cred = pd.read_json(\"kaggle.json\",lines=True)\n",
        "os.environ['KAGGLE_USERNAME'] = cred.iloc[0][0]\n",
        "os.environ['KAGGLE_KEY'] = cred.iloc[0][1]"
      ],
      "execution_count": null,
      "outputs": []
    },
    {
      "cell_type": "code",
      "metadata": {
        "id": "vrfKovJ16BEe",
        "colab_type": "code",
        "colab": {
          "base_uri": "https://localhost:8080/",
          "height": 83
        },
        "outputId": "d94113c4-e680-4420-e9dc-8a0687d89867"
      },
      "source": [
        "!kaggle datasets download -d adityaaggarwal09/usda-barley"
      ],
      "execution_count": null,
      "outputs": [
        {
          "output_type": "stream",
          "text": [
            "Downloading usda-barley.zip to /content\n",
            " 95% 83.0M/87.5M [00:00<00:00, 86.3MB/s]\n"
          ],
          "name": "stdout"
        }
      ]
    },
    {
      "cell_type": "code",
      "metadata": {
        "id": "O2ftyL816kkx",
        "colab_type": "code",
        "colab": {}
      },
      "source": [
        "!unzip \"*.zip\""
      ],
      "execution_count": null,
      "outputs": []
    },
    {
      "cell_type": "markdown",
      "metadata": {
        "id": "6PklySXF64b2",
        "colab_type": "text"
      },
      "source": [
        "<h3>Step - 3</h3>"
      ]
    },
    {
      "cell_type": "markdown",
      "metadata": {
        "id": "Xr3VEye9675O",
        "colab_type": "text"
      },
      "source": [
        "<h3>Mounting our drive and loading our final model</h3>"
      ]
    },
    {
      "cell_type": "code",
      "metadata": {
        "id": "QzMhRHir7enl",
        "colab_type": "code",
        "colab": {}
      },
      "source": [
        "from google.colab import drive\n",
        "drive.mount(\"/content/drive\")"
      ],
      "execution_count": null,
      "outputs": []
    },
    {
      "cell_type": "code",
      "metadata": {
        "id": "C-tuHYjN64F8",
        "colab_type": "code",
        "colab": {}
      },
      "source": [
        "my_dir=\"/content/drive/My Drive/model\""
      ],
      "execution_count": null,
      "outputs": []
    },
    {
      "cell_type": "code",
      "metadata": {
        "id": "qdUAbddr7kpp",
        "colab_type": "code",
        "colab": {}
      },
      "source": [
        "predictor = load_learner(my_dir)"
      ],
      "execution_count": null,
      "outputs": []
    },
    {
      "cell_type": "markdown",
      "metadata": {
        "id": "EfPbD7xN8OVX",
        "colab_type": "text"
      },
      "source": [
        "<h3>Step -4<h3>"
      ]
    },
    {
      "cell_type": "markdown",
      "metadata": {
        "id": "gAOtJKt08Sc6",
        "colab_type": "text"
      },
      "source": [
        "<h3>Making predictions on using our model</h3>"
      ]
    },
    {
      "cell_type": "markdown",
      "metadata": {
        "id": "sBiDjQtp8XqF",
        "colab_type": "text"
      },
      "source": [
        "<h3>A) Predicting a single file  </h3>"
      ]
    },
    {
      "cell_type": "code",
      "metadata": {
        "id": "M_o6nzDO8J1B",
        "colab_type": "code",
        "colab": {}
      },
      "source": [
        "def my_predictor(im):\n",
        "  test_img =open_image(im)\n",
        "  pred_class,pred_idx,outputs=predictor.predict(test_img)\n",
        "  return pred_class\n"
      ],
      "execution_count": null,
      "outputs": []
    },
    {
      "cell_type": "code",
      "metadata": {
        "id": "5eyxR6Fx8ifO",
        "colab_type": "code",
        "colab": {}
      },
      "source": [
        "all_test_images=os.listdir(\"test_data/test_data\")"
      ],
      "execution_count": null,
      "outputs": []
    },
    {
      "cell_type": "code",
      "metadata": {
        "id": "CaLXe3lz8kUz",
        "colab_type": "code",
        "colab": {}
      },
      "source": [
        "idx=89\n",
        "print(\"Predicted vitamin present : {}\".format(my_predictor(\"test_data/test_data/\"+all_test_images[idx])))\n",
        "img = open_image(\"test_data/test_data/\"+all_test_images[idx])\n",
        "img.show()\n",
        "print(\"Actual vitamin present : Vitamin\"+all_test_images[idx].split(\"(\")[0].upper())"
      ],
      "execution_count": null,
      "outputs": []
    },
    {
      "cell_type": "markdown",
      "metadata": {
        "id": "WavEpFs88orw",
        "colab_type": "text"
      },
      "source": [
        "Above on passing any value at idx place between [0,223] we will get our desired output"
      ]
    },
    {
      "cell_type": "markdown",
      "metadata": {
        "id": "sF9uvgXA9f0c",
        "colab_type": "text"
      },
      "source": [
        "<h3>B) Making function for predicting all the files   </h3>"
      ]
    },
    {
      "cell_type": "code",
      "metadata": {
        "id": "sk9sLneU8l16",
        "colab_type": "code",
        "colab": {}
      },
      "source": [
        "for test_file in all_test_images:\n",
        "  print(\"Predicted vitamin present : {}\".format(my_predictor(\"test_data/test_data/\"+test_file)))\n",
        "  print(\"Actual vitamin present : Vitamin\"+test_file.split(\"(\")[0].upper())\n",
        "  print('\\n')\n"
      ],
      "execution_count": null,
      "outputs": []
    },
    {
      "cell_type": "markdown",
      "metadata": {
        "id": "tfwDmyuo-J-N",
        "colab_type": "text"
      },
      "source": [
        "<h3> Step - 5</h3>\n"
      ]
    },
    {
      "cell_type": "markdown",
      "metadata": {
        "id": "YB-HQo5UHuFd",
        "colab_type": "text"
      },
      "source": [
        "<h3>Converting our result into video using cv module</h3>"
      ]
    },
    {
      "cell_type": "code",
      "metadata": {
        "id": "55pKik3MHdb7",
        "colab_type": "code",
        "colab": {}
      },
      "source": [
        "import cv2\n",
        "test_files=os.listdir(\"test_data/test_data\")\n",
        "os.makedirs(\"final_data\",exist_ok=True)\n",
        "i=0\n",
        "for test_file in test_files:\n",
        "  img=cv2.imread(\"test_data/test_data/\"+test_file)\n",
        "  cv2.imwrite(\"temp.jpg\",img)\n",
        "  a=str(my_predictor(\"temp.jpg\")).split('n')[1]\n",
        "  b=str(test_file.split('(')[0].upper())\n",
        "  ans_text=\"Pr: {} Or: {} \".format(a,b)\n",
        "  font = cv2.FONT_HERSHEY_SIMPLEX \n",
        "  i+=1\n",
        "  org = (0, 50) \n",
        "  fontScale = 1\n",
        "  color = (255, 0, 0) \n",
        "  thickness = 4\n",
        "  img = cv2.putText(img, str(ans_text), org, font,fontScale, color, thickness, cv2.LINE_AA) \n",
        "  cv2.imwrite(\"final_data/\"+str(i)+\".jpg\", img)"
      ],
      "execution_count": null,
      "outputs": []
    },
    {
      "cell_type": "markdown",
      "metadata": {
        "id": "nYe8UIyEWoLC",
        "colab_type": "text"
      },
      "source": [
        "<h3>Resizing our images to the required size</h3>"
      ]
    },
    {
      "cell_type": "code",
      "metadata": {
        "id": "VlrYI2DXS7es",
        "colab_type": "code",
        "colab": {}
      },
      "source": [
        "from PIL import Image\n",
        "import os, sys\n",
        "path = \"/content/final_data/\"\n",
        "dirs = os.listdir( path )\n",
        "\n",
        "os.makedirs(\"/content/updated_images/\",exist_ok=True)\n",
        "final_path=\"/content/updated_images/\"\n",
        "\n",
        "def resize():\n",
        "  i=0\n",
        "  for item in dirs:\n",
        "    if os.path.isfile(path+item):\n",
        "      im = Image.open(path+item)\n",
        "      f, e = os.path.splitext(path+item)\n",
        "      imResize = im.resize((400,400), Image.ANTIALIAS)\n",
        "      imResize.save(final_path + '{} resized.jpg'.format(i), 'JPEG', quality=90)\n",
        "      i=i+1\n",
        "resize()"
      ],
      "execution_count": null,
      "outputs": []
    },
    {
      "cell_type": "code",
      "metadata": {
        "id": "gL-Ky0ysHhhi",
        "colab_type": "code",
        "colab": {
          "base_uri": "https://localhost:8080/",
          "height": 890
        },
        "outputId": "0861cffb-6c03-497e-9804-a9180079dcb4"
      },
      "source": [
        "%cd \"updated_images\"\n",
        "!ffmpeg -framerate 1 -pattern_type glob -i '*.jpg' \\-c:v libx264 -r 1 -pix_fmt yuv420p ../my_final_output.mp4\n",
        "%cd .."
      ],
      "execution_count": null,
      "outputs": [
        {
          "output_type": "stream",
          "text": [
            "/content/updated_images\n",
            "ffmpeg version 3.4.8-0ubuntu0.2 Copyright (c) 2000-2020 the FFmpeg developers\n",
            "  built with gcc 7 (Ubuntu 7.5.0-3ubuntu1~18.04)\n",
            "  configuration: --prefix=/usr --extra-version=0ubuntu0.2 --toolchain=hardened --libdir=/usr/lib/x86_64-linux-gnu --incdir=/usr/include/x86_64-linux-gnu --enable-gpl --disable-stripping --enable-avresample --enable-avisynth --enable-gnutls --enable-ladspa --enable-libass --enable-libbluray --enable-libbs2b --enable-libcaca --enable-libcdio --enable-libflite --enable-libfontconfig --enable-libfreetype --enable-libfribidi --enable-libgme --enable-libgsm --enable-libmp3lame --enable-libmysofa --enable-libopenjpeg --enable-libopenmpt --enable-libopus --enable-libpulse --enable-librubberband --enable-librsvg --enable-libshine --enable-libsnappy --enable-libsoxr --enable-libspeex --enable-libssh --enable-libtheora --enable-libtwolame --enable-libvorbis --enable-libvpx --enable-libwavpack --enable-libwebp --enable-libx265 --enable-libxml2 --enable-libxvid --enable-libzmq --enable-libzvbi --enable-omx --enable-openal --enable-opengl --enable-sdl2 --enable-libdc1394 --enable-libdrm --enable-libiec61883 --enable-chromaprint --enable-frei0r --enable-libopencv --enable-libx264 --enable-shared\n",
            "  libavutil      55. 78.100 / 55. 78.100\n",
            "  libavcodec     57.107.100 / 57.107.100\n",
            "  libavformat    57. 83.100 / 57. 83.100\n",
            "  libavdevice    57. 10.100 / 57. 10.100\n",
            "  libavfilter     6.107.100 /  6.107.100\n",
            "  libavresample   3.  7.  0 /  3.  7.  0\n",
            "  libswscale      4.  8.100 /  4.  8.100\n",
            "  libswresample   2.  9.100 /  2.  9.100\n",
            "  libpostproc    54.  7.100 / 54.  7.100\n",
            "Input #0, image2, from '*.jpg':\n",
            "  Duration: 00:03:44.00, start: 0.000000, bitrate: N/A\n",
            "    Stream #0:0: Video: mjpeg, yuvj420p(pc, bt470bg/unknown/unknown), 400x400 [SAR 1:1 DAR 1:1], 1 fps, 1 tbr, 1 tbn, 1 tbc\n",
            "Stream mapping:\n",
            "  Stream #0:0 -> #0:0 (mjpeg (native) -> h264 (libx264))\n",
            "Press [q] to stop, [?] for help\n",
            "\u001b[1;34m[swscaler @ 0x55a3e2c3e000] \u001b[0m\u001b[0;33mdeprecated pixel format used, make sure you did set range correctly\n",
            "\u001b[0m\u001b[1;36m[libx264 @ 0x55a3e2af5e00] \u001b[0musing SAR=1/1\n",
            "\u001b[1;36m[libx264 @ 0x55a3e2af5e00] \u001b[0musing cpu capabilities: MMX2 SSE2Fast SSSE3 SSE4.2 AVX FMA3 BMI2 AVX2\n",
            "\u001b[1;36m[libx264 @ 0x55a3e2af5e00] \u001b[0mprofile High, level 2.1\n",
            "\u001b[1;36m[libx264 @ 0x55a3e2af5e00] \u001b[0m264 - core 152 r2854 e9a5903 - H.264/MPEG-4 AVC codec - Copyleft 2003-2017 - http://www.videolan.org/x264.html - options: cabac=1 ref=3 deblock=1:0:0 analyse=0x3:0x113 me=hex subme=7 psy=1 psy_rd=1.00:0.00 mixed_ref=1 me_range=16 chroma_me=1 trellis=1 8x8dct=1 cqm=0 deadzone=21,11 fast_pskip=1 chroma_qp_offset=-2 threads=3 lookahead_threads=1 sliced_threads=0 nr=0 decimate=1 interlaced=0 bluray_compat=0 constrained_intra=0 bframes=3 b_pyramid=2 b_adapt=1 b_bias=0 direct=1 weightb=1 open_gop=0 weightp=2 keyint=250 keyint_min=1 scenecut=40 intra_refresh=0 rc_lookahead=40 rc=crf mbtree=1 crf=23.0 qcomp=0.60 qpmin=0 qpmax=69 qpstep=4 ip_ratio=1.40 aq=1:1.00\n",
            "Output #0, mp4, to '../my_final_output.mp4':\n",
            "  Metadata:\n",
            "    encoder         : Lavf57.83.100\n",
            "    Stream #0:0: Video: h264 (libx264) (avc1 / 0x31637661), yuv420p, 400x400 [SAR 1:1 DAR 1:1], q=-1--1, 1 fps, 16384 tbn, 1 tbc\n",
            "    Metadata:\n",
            "      encoder         : Lavc57.107.100 libx264\n",
            "    Side data:\n",
            "      cpb: bitrate max/min/avg: 0/0/0 buffer size: 0 vbv_delay: -1\n",
            "frame=  224 fps= 30 q=-1.0 Lsize=    6736kB time=00:03:41.00 bitrate= 249.7kbits/s speed=  30x    \n",
            "video:6735kB audio:0kB subtitle:0kB other streams:0kB global headers:0kB muxing overhead: 0.026913%\n",
            "\u001b[1;36m[libx264 @ 0x55a3e2af5e00] \u001b[0mframe I:2     Avg QP:13.32  size: 29108\n",
            "\u001b[1;36m[libx264 @ 0x55a3e2af5e00] \u001b[0mframe P:222   Avg QP:17.38  size: 30799\n",
            "\u001b[1;36m[libx264 @ 0x55a3e2af5e00] \u001b[0mmb I  I16..4: 27.0% 60.6% 12.3%\n",
            "\u001b[1;36m[libx264 @ 0x55a3e2af5e00] \u001b[0mmb P  I16..4:  5.6% 82.0%  8.1%  P16..4:  1.3%  1.2%  1.1%  0.0%  0.0%    skip: 0.7%\n",
            "\u001b[1;36m[libx264 @ 0x55a3e2af5e00] \u001b[0m8x8 transform intra:85.5% inter:61.9%\n",
            "\u001b[1;36m[libx264 @ 0x55a3e2af5e00] \u001b[0mcoded y,uvDC,uvAC intra: 88.5% 86.2% 79.0% inter: 68.9% 72.1% 69.8%\n",
            "\u001b[1;36m[libx264 @ 0x55a3e2af5e00] \u001b[0mi16 v,h,dc,p: 72%  9% 13%  7%\n",
            "\u001b[1;36m[libx264 @ 0x55a3e2af5e00] \u001b[0mi8 v,h,dc,ddl,ddr,vr,hd,vl,hu: 22% 15% 12%  6%  8% 10%  8% 10%  9%\n",
            "\u001b[1;36m[libx264 @ 0x55a3e2af5e00] \u001b[0mi4 v,h,dc,ddl,ddr,vr,hd,vl,hu: 26% 14%  8%  6% 10% 12%  8% 10%  7%\n",
            "\u001b[1;36m[libx264 @ 0x55a3e2af5e00] \u001b[0mi8c dc,h,v,p: 45% 18% 24% 13%\n",
            "\u001b[1;36m[libx264 @ 0x55a3e2af5e00] \u001b[0mWeighted P-Frames: Y:11.7% UV:11.3%\n",
            "\u001b[1;36m[libx264 @ 0x55a3e2af5e00] \u001b[0mref P L0: 21.1% 13.4% 36.0% 27.7%  1.9%\n",
            "\u001b[1;36m[libx264 @ 0x55a3e2af5e00] \u001b[0mkb/s:246.27\n",
            "/content\n"
          ],
          "name": "stdout"
        }
      ]
    },
    {
      "cell_type": "code",
      "metadata": {
        "id": "8QffrW-HHidp",
        "colab_type": "code",
        "colab": {
          "base_uri": "https://localhost:8080/",
          "height": 88
        },
        "outputId": "b9d0f3ca-da3a-4788-8322-ef6138f03507"
      },
      "source": [
        "!pip install -U kora\n",
        "from kora.drive import upload_public\n"
      ],
      "execution_count": null,
      "outputs": [
        {
          "output_type": "stream",
          "text": [
            "Collecting kora\n",
            "  Downloading https://files.pythonhosted.org/packages/0d/4e/b921e5c5cb49f0d94c0cc280abefc470a034a2530505ba43e9c599752545/kora-0.4.23-py3-none-any.whl\n",
            "Installing collected packages: kora\n",
            "Successfully installed kora-0.4.23\n"
          ],
          "name": "stdout"
        }
      ]
    },
    {
      "cell_type": "code",
      "metadata": {
        "id": "dpv5ad4UHiUi",
        "colab_type": "code",
        "colab": {}
      },
      "source": [
        "url = upload_public('my_final_output.mp4')"
      ],
      "execution_count": null,
      "outputs": []
    },
    {
      "cell_type": "code",
      "metadata": {
        "id": "9mm7JLy5Hm4U",
        "colab_type": "code",
        "colab": {
          "base_uri": "https://localhost:8080/",
          "height": 521
        },
        "outputId": "3e5a7752-259a-4aa0-a721-fd238e548900"
      },
      "source": [
        "\n",
        "from IPython.display import HTML\n",
        "HTML(f\"\"\"<video src={url} width=500 controls/>\"\"\")"
      ],
      "execution_count": null,
      "outputs": [
        {
          "output_type": "execute_result",
          "data": {
            "text/html": [
              "<video src=https://drive.google.com/uc?id=1HxT6Fe2BKwRFKqms51q1j4BrhJzpjA4n width=500 controls/>"
            ],
            "text/plain": [
              "<IPython.core.display.HTML object>"
            ]
          },
          "metadata": {
            "tags": []
          },
          "execution_count": 19
        }
      ]
    },
    {
      "cell_type": "code",
      "metadata": {
        "id": "Vm8h8NekHou5",
        "colab_type": "code",
        "colab": {
          "base_uri": "https://localhost:8080/",
          "height": 36
        },
        "outputId": "127f716a-0e40-4e14-90e3-e6d6b440203e"
      },
      "source": [
        "url"
      ],
      "execution_count": null,
      "outputs": [
        {
          "output_type": "execute_result",
          "data": {
            "application/vnd.google.colaboratory.intrinsic+json": {
              "type": "string"
            },
            "text/plain": [
              "'https://drive.google.com/uc?id=1HxT6Fe2BKwRFKqms51q1j4BrhJzpjA4n'"
            ]
          },
          "metadata": {
            "tags": []
          },
          "execution_count": 20
        }
      ]
    },
    {
      "cell_type": "code",
      "metadata": {
        "id": "NaSRtdbocfPB",
        "colab_type": "code",
        "colab": {}
      },
      "source": [
        ""
      ],
      "execution_count": null,
      "outputs": []
    },
    {
      "cell_type": "markdown",
      "metadata": {
        "id": "9IuSrBIuxZsg",
        "colab_type": "text"
      },
      "source": [
        "<h3>Step - 6 </h3>"
      ]
    },
    {
      "cell_type": "markdown",
      "metadata": {
        "id": "cqgskO33xdtU",
        "colab_type": "text"
      },
      "source": [
        "<h3>Predicting for any random image just by giving the path</h3>"
      ]
    },
    {
      "cell_type": "code",
      "metadata": {
        "id": "4tIjXjvJxZSe",
        "colab_type": "code",
        "colab": {}
      },
      "source": [
        "path=\"\"\n",
        "print(\"Predicted vitamin present : {}\".format(my_predictor(path)))\n",
        "img = open_image(\"test_data/test_data/\"+all_test_images[idx])\n",
        "img.show()"
      ],
      "execution_count": null,
      "outputs": []
    },
    {
      "cell_type": "markdown",
      "metadata": {
        "id": "Dmzph2Z6y6PM",
        "colab_type": "text"
      },
      "source": [
        "Above on providing path to the function our model will predict the vitamin present in it"
      ]
    },
    {
      "cell_type": "code",
      "metadata": {
        "id": "_zTnAqGzzDiq",
        "colab_type": "code",
        "colab": {}
      },
      "source": [
        ""
      ],
      "execution_count": null,
      "outputs": []
    }
  ]
}